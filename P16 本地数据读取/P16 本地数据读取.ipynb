{
 "cells": [
  {
   "cell_type": "code",
   "execution_count": 14,
   "metadata": {},
   "outputs": [],
   "source": [
    "import numpy as np\n",
    "gb_file_path=\"C:/Users/Administrator/data_analysis_course/P16 本地数据读取/GBvideos.csv\""
   ]
  },
  {
   "cell_type": "code",
   "execution_count": 18,
   "metadata": {},
   "outputs": [
    {
     "name": "stdout",
     "output_type": "stream",
     "text": [
      "[[     28 7426393   78240   13548     705]\n",
      " [     24  494203    2651    1309       0]\n",
      " [     24  142819   13119     151    1141]\n",
      " ..., \n",
      " [     26   96935    3537     291     589]\n",
      " [     24 2259132   38692    1573    4566]\n",
      " [     24  110540     726      38      49]]\n"
     ]
    }
   ],
   "source": [
    "t1=np.loadtxt(gb_file_path,delimiter=\",\",dtype=\"int64\")\n",
    "print(t1)"
   ]
  },
  {
   "cell_type": "code",
   "execution_count": 19,
   "metadata": {},
   "outputs": [
    {
     "data": {
      "text/plain": [
       "array([[     28,      24,      24, ...,      26,      24,      24],\n",
       "       [7426393,  494203,  142819, ...,   96935, 2259132,  110540],\n",
       "       [  78240,    2651,   13119, ...,    3537,   38692,     726],\n",
       "       [  13548,    1309,     151, ...,     291,    1573,      38],\n",
       "       [    705,       0,    1141, ...,     589,    4566,      49]], dtype=int64)"
      ]
     },
     "execution_count": 19,
     "metadata": {},
     "output_type": "execute_result"
    }
   ],
   "source": [
    "t1.transpose()"
   ]
  },
  {
   "cell_type": "code",
   "execution_count": null,
   "metadata": {
    "collapsed": true
   },
   "outputs": [],
   "source": []
  }
 ],
 "metadata": {
  "kernelspec": {
   "display_name": "Python 3",
   "language": "python",
   "name": "python3"
  },
  "language_info": {
   "codemirror_mode": {
    "name": "ipython",
    "version": 3
   },
   "file_extension": ".py",
   "mimetype": "text/x-python",
   "name": "python",
   "nbconvert_exporter": "python",
   "pygments_lexer": "ipython3",
   "version": "3.6.3"
  }
 },
 "nbformat": 4,
 "nbformat_minor": 2
}
