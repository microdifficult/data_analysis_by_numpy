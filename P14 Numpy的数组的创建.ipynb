{
 "cells": [
  {
   "cell_type": "code",
   "execution_count": 1,
   "metadata": {
    "collapsed": true
   },
   "outputs": [],
   "source": [
    "import numpy as np\n",
    "t1=np.array([1,2,3,4,5,6,7])\n",
    "print(t1)"
   ]
  },
  {
   "cell_type": "code",
   "execution_count": 3,
   "metadata": {
    "collapsed": true
   },
   "outputs": [],
   "source": [
    "t2=np.array(range(10))\n",
    "print(t2)"
   ]
  },
  {
   "cell_type": "code",
   "execution_count": 9,
   "metadata": {},
   "outputs": [
    {
     "name": "stdout",
     "output_type": "stream",
     "text": [
      "[1 2 3 4 5 6 7 8 9]\n",
      "<class 'numpy.ndarray'>\n",
      "float64\n"
     ]
    }
   ],
   "source": [
    "t2=np.array(range(1,10))\n",
    "print(t2)\n",
    "print(type(t2))\n",
    "t2=np.array(range(1,10),dtype=float)\n",
    "print(t2.dtype)"
   ]
  },
  {
   "cell_type": "code",
   "execution_count": 15,
   "metadata": {},
   "outputs": [
    {
     "name": "stdout",
     "output_type": "stream",
     "text": [
      "int32\n",
      "[ True False  True False  True False  True]\n",
      "[1 0 1 0 1 0 1] int32\n"
     ]
    }
   ],
   "source": [
    "t3=np.array([1,0,1,0,1,0,1])\n",
    "print(t3.dtype)\n",
    "t3=np.array([1,0,1,0,1,0,1],dtype=bool)\n",
    "print(t3)\n",
    "t4=t3.astype(int)\n",
    "print(t4,t4.dtype)"
   ]
  },
  {
   "cell_type": "code",
   "execution_count": 18,
   "metadata": {},
   "outputs": [
    {
     "name": "stdout",
     "output_type": "stream",
     "text": [
      "[ 0.40463894  0.31859588  0.98586756  0.67369847  0.02785173  0.52386744\n",
      "  0.82780557  0.26526613  0.26353505  0.53189512]\n"
     ]
    }
   ],
   "source": [
    "import random\n",
    "t5=np.array([random.random() for i in range(10)])\n",
    "print(t5)"
   ]
  },
  {
   "cell_type": "code",
   "execution_count": 19,
   "metadata": {},
   "outputs": [
    {
     "name": "stdout",
     "output_type": "stream",
     "text": [
      "[ 0.4   0.32  0.99  0.67  0.03  0.52  0.83  0.27  0.26  0.53]\n"
     ]
    }
   ],
   "source": [
    "print(np.round(t5,2))"
   ]
  },
  {
   "cell_type": "code",
   "execution_count": null,
   "metadata": {
    "collapsed": true
   },
   "outputs": [],
   "source": []
  }
 ],
 "metadata": {
  "kernelspec": {
   "display_name": "Python 3",
   "language": "python",
   "name": "python3"
  },
  "language_info": {
   "codemirror_mode": {
    "name": "ipython",
    "version": 3
   },
   "file_extension": ".py",
   "mimetype": "text/x-python",
   "name": "python",
   "nbconvert_exporter": "python",
   "pygments_lexer": "ipython3",
   "version": "3.6.3"
  }
 },
 "nbformat": 4,
 "nbformat_minor": 2
}
