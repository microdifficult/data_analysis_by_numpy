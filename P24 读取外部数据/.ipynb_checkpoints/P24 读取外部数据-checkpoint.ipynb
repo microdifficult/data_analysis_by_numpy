{
 "cells": [
  {
   "cell_type": "code",
   "execution_count": 1,
   "metadata": {},
   "outputs": [
    {
     "name": "stdout",
     "output_type": "stream",
     "text": [
      "          Row_Labels  Count_AnimalName\n",
      "0                  1                 1\n",
      "1                  2                 2\n",
      "2              40804                 1\n",
      "3              90201                 1\n",
      "4              90203                 1\n",
      "5             102201                 1\n",
      "6            3010271                 1\n",
      "7              MARCH                 2\n",
      "8              APRIL                51\n",
      "9             AUGUST                14\n",
      "10          DECEMBER                 4\n",
      "11            SUNDAY                13\n",
      "12            MONDAY                 4\n",
      "13            FRIDAY                19\n",
      "14               JAN                 1\n",
      "15               JUN                 1\n",
      "16           JANUARY                 1\n",
      "17              JUNE                24\n",
      "18              JULY                 9\n",
      "19               MON                 2\n",
      "20               MAY                13\n",
      "21          NOVEMBER                 1\n",
      "22           TUESDAY                 7\n",
      "23         SEPTEMBER                 2\n",
      "24         WEDNESDAY                10\n",
      "25               SUN                 5\n",
      "26     &QUOT;G&QUOT;                 1\n",
      "27       (LEELA)LILA                 1\n",
      "28              166Y                 1\n",
      "29           2CHAINZ                 1\n",
      "...              ...               ...\n",
      "16190           ZUKI                 3\n",
      "16191          ZUKIE                 1\n",
      "16192           ZUKO                 5\n",
      "16193           ZULA                 3\n",
      "16194           ZULI                 1\n",
      "16195           ZULU                11\n",
      "16196           ZULY                 2\n",
      "16197           ZUMA                 5\n",
      "16198          ZUMBA                 3\n",
      "16199           ZUNI                 3\n",
      "16200          ZUREE                 1\n",
      "16201           ZURI                 5\n",
      "16202           ZUSA                 1\n",
      "16203          ZUSHI                 1\n",
      "16204           ZUSY                 1\n",
      "16205           ZUTY                 1\n",
      "16206           ZUZI                 1\n",
      "16207          ZUZIA                 1\n",
      "16208           ZUZU                16\n",
      "16209       Z-WILLOW                 1\n",
      "16210            ZYU                 1\n",
      "16211             ZZ                 2\n",
      "16212           ???Y                 1\n",
      "16213           TRUE                 3\n",
      "16214          37846                 1\n",
      "16215          37916                 1\n",
      "16216          38282                 1\n",
      "16217          38583                 1\n",
      "16218          38948                 1\n",
      "16219          39743                 1\n",
      "\n",
      "[16220 rows x 2 columns]\n"
     ]
    }
   ],
   "source": [
    "import pandas as pd\n",
    "df=pd.read_csv(\"./dogNames2.csv\")\n",
    "print(df)"
   ]
  },
  {
   "cell_type": "code",
   "execution_count": 2,
   "metadata": {
    "collapsed": true
   },
   "outputs": [],
   "source": [
    "from pymongo import MongoClient"
   ]
  },
  {
   "cell_type": "code",
   "execution_count": 3,
   "metadata": {
    "collapsed": true
   },
   "outputs": [],
   "source": [
    "client=MongoClient()"
   ]
  },
  {
   "cell_type": "code",
   "execution_count": 4,
   "metadata": {
    "collapsed": true
   },
   "outputs": [],
   "source": [
    "collection=client[\"douban\"][\"tv1\"]"
   ]
  },
  {
   "cell_type": "code",
   "execution_count": 6,
   "metadata": {},
   "outputs": [],
   "source": [
    "data=list(collection.find())"
   ]
  },
  {
   "cell_type": "code",
   "execution_count": 7,
   "metadata": {},
   "outputs": [
    {
     "name": "stdout",
     "output_type": "stream",
     "text": [
      "[]\n"
     ]
    }
   ],
   "source": [
    "print(data)"
   ]
  },
  {
   "cell_type": "code",
   "execution_count": null,
   "metadata": {
    "collapsed": true
   },
   "outputs": [],
   "source": []
  },
  {
   "cell_type": "code",
   "execution_count": null,
   "metadata": {
    "collapsed": true
   },
   "outputs": [],
   "source": []
  }
 ],
 "metadata": {
  "kernelspec": {
   "display_name": "Python 3",
   "language": "python",
   "name": "python3"
  },
  "language_info": {
   "codemirror_mode": {
    "name": "ipython",
    "version": 3
   },
   "file_extension": ".py",
   "mimetype": "text/x-python",
   "name": "python",
   "nbconvert_exporter": "python",
   "pygments_lexer": "ipython3",
   "version": "3.6.3"
  }
 },
 "nbformat": 4,
 "nbformat_minor": 2
}
