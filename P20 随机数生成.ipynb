{
 "cells": [
  {
   "cell_type": "code",
   "execution_count": 6,
   "metadata": {},
   "outputs": [
    {
     "data": {
      "text/plain": [
       "array([[19, 46, 25, 10, 38],\n",
       "       [35, 39, 39, 18, 19],\n",
       "       [10, 46, 26, 46, 21],\n",
       "       [34, 43, 18, 46, 24]])"
      ]
     },
     "execution_count": 6,
     "metadata": {},
     "output_type": "execute_result"
    }
   ],
   "source": [
    "import numpy as np\n",
    "np.random.seed(10)\n",
    "np.random.randint(10,50,(4,5))"
   ]
  },
  {
   "cell_type": "code",
   "execution_count": 7,
   "metadata": {},
   "outputs": [
    {
     "data": {
      "text/plain": [
       "array([[ 39.09742055,  31.63523725,  15.2583261 ,  26.54669498,\n",
       "         41.14915233],\n",
       "       [ 33.35605463,  17.30525745,  43.04328991,  14.21607334,\n",
       "         21.34306714],\n",
       "       [ 12.62253065,  12.2577675 ,  40.61823273,  10.47152118,\n",
       "         34.47773364],\n",
       "       [ 23.27529023,  32.38593462,  23.41998586,  26.44730184,\n",
       "         13.07422007]])"
      ]
     },
     "execution_count": 7,
     "metadata": {},
     "output_type": "execute_result"
    }
   ],
   "source": [
    "np.random.uniform(10,50,(4,5))"
   ]
  },
  {
   "cell_type": "code",
   "execution_count": null,
   "metadata": {
    "collapsed": true
   },
   "outputs": [],
   "source": []
  }
 ],
 "metadata": {
  "kernelspec": {
   "display_name": "Python 3",
   "language": "python",
   "name": "python3"
  },
  "language_info": {
   "codemirror_mode": {
    "name": "ipython",
    "version": 3
   },
   "file_extension": ".py",
   "mimetype": "text/x-python",
   "name": "python",
   "nbconvert_exporter": "python",
   "pygments_lexer": "ipython3",
   "version": "3.6.3"
  }
 },
 "nbformat": 4,
 "nbformat_minor": 2
}
