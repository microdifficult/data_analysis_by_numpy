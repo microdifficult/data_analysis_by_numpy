{
 "cells": [
  {
   "cell_type": "code",
   "execution_count": 1,
   "metadata": {
    "collapsed": true
   },
   "outputs": [],
   "source": [
    "#1）for, if 都要加：\n",
    "#2）定义函数：def,return, if__name='__main__'\n",
    "#3)判断缺失值个数np.count_nonzero(isnan())\n",
    "#4)常用思想是直接把缺失值的位置赋值为平均值\n",
    "#5）注意缩进的匹配\n",
    "import numpy as np\n"
   ]
  },
  {
   "cell_type": "code",
   "execution_count": 2,
   "metadata": {},
   "outputs": [],
   "source": [
    "def fill_ndarray(t1):\n",
    "   for i in range(t1.shape[1]):\n",
    "       temp_col=t1[:,i]\n",
    "       nan_nums=np.count_nonzero(np.isnan(temp_col))#判断缺失值的个数\n",
    "       if nan_nums!=0:\n",
    "           temp_not_nan_col=temp_col[temp_col==temp_col]#当前不为nan的array\n",
    "           temp_col[np.isnan(temp_col)]=temp_not_nan_col.mean()#把nan替换为均值\n",
    "   return t1"
   ]
  },
  {
   "cell_type": "code",
   "execution_count": null,
   "metadata": {
    "collapsed": true
   },
   "outputs": [],
   "source": []
  },
  {
   "cell_type": "code",
   "execution_count": 3,
   "metadata": {},
   "outputs": [
    {
     "name": "stdout",
     "output_type": "stream",
     "text": [
      "[[  0.   1.   2.   3.]\n",
      " [  4.   5.  nan  nan]\n",
      " [  8.   9.  10.  11.]]\n",
      "[[  0.   1.   2.   3.]\n",
      " [  4.   5.   6.   7.]\n",
      " [  8.   9.  10.  11.]]\n"
     ]
    }
   ],
   "source": [
    "if __name__=='__main__':\n",
    "   t1=np.arange(12).reshape((3,4)).astype('float')\n",
    "   t1[1,2:]=np.nan\n",
    "   print(t1)\n",
    "   t1=fill_ndarray(t1)\n",
    "   print(t1)"
   ]
  }
 ],
 "metadata": {
  "kernelspec": {
   "display_name": "Python 3",
   "language": "python",
   "name": "python3"
  },
  "language_info": {
   "codemirror_mode": {
    "name": "ipython",
    "version": 3
   },
   "file_extension": ".py",
   "mimetype": "text/x-python",
   "name": "python",
   "nbconvert_exporter": "python",
   "pygments_lexer": "ipython3",
   "version": "3.6.3"
  }
 },
 "nbformat": 4,
 "nbformat_minor": 2
}
